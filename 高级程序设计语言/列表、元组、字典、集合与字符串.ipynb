{
 "cells": [
  {
   "cell_type": "code",
   "execution_count": 8,
   "id": "initial_id",
   "metadata": {
    "collapsed": true,
    "ExecuteTime": {
     "end_time": "2024-11-14T13:32:51.840309400Z",
     "start_time": "2024-11-14T13:32:51.832121Z"
    }
   },
   "outputs": [
    {
     "data": {
      "text/plain": "\"[10, 20, 30, 40]\\n['a', 'b', 'c']\\n['python', 2.0, 5, [10, 20]]\\n[['a', 'b'], [10, 20]]\\n[{3}, {'5': 6}, (1, 2, 3)]\""
     },
     "execution_count": 8,
     "metadata": {},
     "output_type": "execute_result"
    }
   ],
   "source": [
    "'''[10, 20, 30, 40]\n",
    "['a', 'b', 'c']\n",
    "['python', 2.0, 5, [10, 20]]\n",
    "[['a', 'b'], [10, 20]]\n",
    "[{3}, {'5': 6}, (1, 2, 3)]'''"
   ]
  },
  {
   "cell_type": "code",
   "outputs": [
    {
     "name": "stdout",
     "output_type": "stream",
     "text": [
      "[3, 4, 5]\n",
      "[1, 3, 5, 7, 9]\n",
      "[('a', 3), ('b', 9)]\n"
     ]
    }
   ],
   "source": [
    "print(list((3, 4, 5)), end='\\n')\n",
    "print(list(range(1, 10, 2)), end='\\n')\n",
    "print(list({'a': 3, 'b': 9}.items()), end='\\n')"
   ],
   "metadata": {
    "collapsed": false,
    "ExecuteTime": {
     "end_time": "2024-11-14T13:34:17.030681200Z",
     "start_time": "2024-11-14T13:34:17.023305800Z"
    }
   },
   "id": "c7175110cb375982",
   "execution_count": 12
  },
  {
   "cell_type": "code",
   "outputs": [
    {
     "name": "stdout",
     "output_type": "stream",
     "text": [
      "[1, 2, 3, 4]\n",
      "[1, 2, 3, 4, 5]\n",
      "[1, 2, 3, 4, 5, 6, 7, 8]\n"
     ]
    }
   ],
   "source": [
    "x = [1, 2, 3]\n",
    "x.append(4)\n",
    "print(x, end='\\n')\n",
    "x.insert(5, 5)\n",
    "print(x, end='\\n')\n",
    "x.extend([6, 7, 8])\n",
    "print(x, end='\\n')"
   ],
   "metadata": {
    "collapsed": false,
    "ExecuteTime": {
     "end_time": "2024-11-14T13:32:58.790718800Z",
     "start_time": "2024-11-14T13:32:58.785413400Z"
    }
   },
   "id": "8b71a676e568df3f",
   "execution_count": 9
  },
  {
   "cell_type": "code",
   "outputs": [
    {
     "name": "stdout",
     "output_type": "stream",
     "text": [
      "[1, 2, 3, 2]\n",
      "[1, 3, 2]\n",
      "[]\n"
     ]
    }
   ],
   "source": [
    "x = [1, 2, 3, 2, 4]\n",
    "x.pop()\n",
    "print(x, end='\\n')\n",
    "x.remove(2)\n",
    "print(x, end='\\n')\n",
    "x.clear()\n",
    "print(x, end='\\n')"
   ],
   "metadata": {
    "collapsed": false,
    "ExecuteTime": {
     "end_time": "2024-11-14T13:33:00.317584600Z",
     "start_time": "2024-11-14T13:33:00.313904700Z"
    }
   },
   "id": "f378a43a75244468",
   "execution_count": 10
  },
  {
   "cell_type": "code",
   "outputs": [
    {
     "name": "stdout",
     "output_type": "stream",
     "text": [
      "2\n",
      "3\n"
     ]
    },
    {
     "ename": "ValueError",
     "evalue": "6 is not in list",
     "output_type": "error",
     "traceback": [
      "\u001B[1;31m---------------------------------------------------------------------------\u001B[0m",
      "\u001B[1;31mValueError\u001B[0m                                Traceback (most recent call last)",
      "Cell \u001B[1;32mIn[13], line 4\u001B[0m\n\u001B[0;32m      2\u001B[0m \u001B[38;5;28mprint\u001B[39m(x\u001B[38;5;241m.\u001B[39mcount(\u001B[38;5;241m2\u001B[39m), end\u001B[38;5;241m=\u001B[39m\u001B[38;5;124m'\u001B[39m\u001B[38;5;130;01m\\n\u001B[39;00m\u001B[38;5;124m'\u001B[39m)\n\u001B[0;32m      3\u001B[0m \u001B[38;5;28mprint\u001B[39m(x\u001B[38;5;241m.\u001B[39mindex(\u001B[38;5;241m3\u001B[39m), end\u001B[38;5;241m=\u001B[39m\u001B[38;5;124m'\u001B[39m\u001B[38;5;130;01m\\n\u001B[39;00m\u001B[38;5;124m'\u001B[39m)\n\u001B[1;32m----> 4\u001B[0m \u001B[38;5;28mprint\u001B[39m(x\u001B[38;5;241m.\u001B[39mindex(\u001B[38;5;241m6\u001B[39m), end\u001B[38;5;241m=\u001B[39m\u001B[38;5;124m'\u001B[39m\u001B[38;5;130;01m\\n\u001B[39;00m\u001B[38;5;124m'\u001B[39m)\n",
      "\u001B[1;31mValueError\u001B[0m: 6 is not in list"
     ]
    }
   ],
   "source": [
    "x = [1, 2, 2, 3, 3, 3, 3, 4, 4, 4, 4, 5, 5, 5]\n",
    "print(x.count(2), end='\\n')\n",
    "print(x.index(3), end='\\n')\n",
    "print(x.index(6), end='\\n')"
   ],
   "metadata": {
    "collapsed": false,
    "ExecuteTime": {
     "end_time": "2024-11-14T13:35:34.044823Z",
     "start_time": "2024-11-14T13:35:33.378010800Z"
    }
   },
   "id": "9c01a583c7299b93",
   "execution_count": 13
  },
  {
   "cell_type": "code",
   "outputs": [
    {
     "name": "stdout",
     "output_type": "stream",
     "text": [
      "[3, 5, 4, 2, 9, 0, 6, 7, 1, 10, 8]\n",
      "[0, 1, 2, 3, 4, 5, 6, 7, 8, 9, 10]\n",
      "[0, 1, 10, 2, 3, 4, 5, 6, 7, 8, 9]\n",
      "[9, 8, 7, 6, 5, 4, 3, 2, 10, 1, 0]\n"
     ]
    }
   ],
   "source": [
    "x = list(range(11))\n",
    "import random\n",
    "\n",
    "random.shuffle(x)\n",
    "print(x, end='\\n')\n",
    "x.sort()\n",
    "print(x, end='\\n')\n",
    "x.sort(key=str)\n",
    "print(x, end='\\n')\n",
    "x.reverse()\n",
    "print(x, end='\\n')\n",
    "x.sort(key=lambda item: len(str(item)), reverse=True)"
   ],
   "metadata": {
    "collapsed": false,
    "ExecuteTime": {
     "end_time": "2024-11-14T13:42:10.351006800Z",
     "start_time": "2024-11-14T13:42:10.345778800Z"
    }
   },
   "id": "68c0173e25e18244",
   "execution_count": 5
  },
  {
   "cell_type": "code",
   "outputs": [
    {
     "name": "stdout",
     "output_type": "stream",
     "text": [
      "[1, 2, 3, 4]\n",
      "[1, 2, 3]\n",
      "[1, 2, 3, 4]\n"
     ]
    }
   ],
   "source": [
    "x = [1, 2, 3]\n",
    "print(x + [4], end='\\n')\n",
    "print(x, end='\\n')\n",
    "x += [4]\n",
    "print(x, end='\\n')"
   ],
   "metadata": {
    "collapsed": false,
    "ExecuteTime": {
     "end_time": "2024-11-14T13:46:38.617837400Z",
     "start_time": "2024-11-14T13:46:38.609880900Z"
    }
   },
   "id": "a8a69ccd5601ac74",
   "execution_count": 11
  },
  {
   "cell_type": "code",
   "outputs": [
    {
     "name": "stdout",
     "output_type": "stream",
     "text": [
      "[1, 2, 3, 1, 2, 3, 1, 2, 3]\n",
      "[1, 2, 3]\n",
      "[1, 2, 3, 1, 2, 3, 1, 2, 3]\n"
     ]
    }
   ],
   "source": [
    "x = [1, 2, 3]\n",
    "print(x * 3, end='\\n')\n",
    "print(x, end='\\n')\n",
    "x *= 3\n",
    "print(x, end='\\n')"
   ],
   "metadata": {
    "collapsed": false,
    "ExecuteTime": {
     "end_time": "2024-11-14T13:48:57.167828600Z",
     "start_time": "2024-11-14T13:48:57.162521600Z"
    }
   },
   "id": "5ed75a008be82d74",
   "execution_count": 14
  },
  {
   "cell_type": "code",
   "outputs": [
    {
     "name": "stdout",
     "output_type": "stream",
     "text": [
      "True\n",
      "False\n"
     ]
    }
   ],
   "source": [
    "print(3 in [1, 2, 3], end='\\n')\n",
    "print(3 in [1, 2, '3'], end='\\n')"
   ],
   "metadata": {
    "collapsed": false,
    "ExecuteTime": {
     "end_time": "2024-11-15T03:41:49.898460100Z",
     "start_time": "2024-11-15T03:41:49.887796Z"
    }
   },
   "id": "da5dfe7defcc3435",
   "execution_count": 1
  },
  {
   "cell_type": "code",
   "outputs": [
    {
     "name": "stdout",
     "output_type": "stream",
     "text": [
      "[0, 9, 10, 7, 5, 4, 3, 1, 8, 2, 6]\n",
      "False\n",
      "True\n",
      "10\n",
      "0\n",
      "55\n",
      "11\n",
      "[(0, 1), (9, 1), (10, 1), (7, 1), (5, 1), (4, 1), (3, 1), (1, 1), (8, 1), (2, 1), (6, 1)]\n",
      "[(1,), (2,), (3,)]\n",
      "[('a', 1), ('b', 2)]\n",
      "[(0, 0), (1, 9), (2, 10), (3, 7), (4, 5), (5, 4), (6, 3), (7, 1), (8, 8), (9, 2), (10, 6)]\n"
     ]
    }
   ],
   "source": [
    "x = list(range(11))\n",
    "import random\n",
    "\n",
    "random.shuffle(x)\n",
    "print(x, end='\\n')\n",
    "print(all(x), end='\\n')\n",
    "print(any(x), end='\\n')\n",
    "print(max(x), end='\\n')\n",
    "print(min(x), end='\\n')\n",
    "print(sum(x), end='\\n')\n",
    "print(len(x), end='\\n')\n",
    "print(list(zip(x, [1] * 11)), end='\\n')\n",
    "print(list(zip(range(1, 4))), end='\\n')\n",
    "print(list(zip(['a', 'b', 'c'], [1, 2])), end='\\n')\n",
    "print(list(enumerate(x)))"
   ],
   "metadata": {
    "collapsed": false,
    "ExecuteTime": {
     "end_time": "2024-11-15T04:00:41.740349900Z",
     "start_time": "2024-11-15T04:00:41.735502500Z"
    }
   },
   "id": "d014b85c2b9d4bfd",
   "execution_count": 4
  },
  {
   "cell_type": "code",
   "outputs": [
    {
     "name": "stdout",
     "output_type": "stream",
     "text": [
      "[0, 1, 4, 9, 16, 25, 36, 49, 64, 81]\n",
      "[0, 1, 4, 9, 16, 25, 36, 49, 64, 81]\n"
     ]
    }
   ],
   "source": [
    "alist = [x * x for x in range(10)]\n",
    "print(alist, end='\\n')\n",
    "alist = []\n",
    "for x in range(10):\n",
    "    alist.append(x * x)\n",
    "print(alist, end='\\n')"
   ],
   "metadata": {
    "collapsed": false,
    "ExecuteTime": {
     "end_time": "2024-11-15T04:04:47.097292500Z",
     "start_time": "2024-11-15T04:04:47.076868400Z"
    }
   },
   "id": "e95e3b497ccd54d9",
   "execution_count": 6
  },
  {
   "cell_type": "code",
   "outputs": [
    {
     "name": "stdout",
     "output_type": "stream",
     "text": [
      "[1, 2, 3, 4, 5, 6, 7, 8, 9]\n",
      "[1, 2, 3, 4, 5, 6, 7, 8, 9]\n"
     ]
    }
   ],
   "source": [
    "vec = [[1, 2, 3], [4, 5, 6], [7, 8, 9]]\n",
    "print([num for elem in vec for num in elem])\n",
    "result = []\n",
    "for elem in vec:\n",
    "    for num in elem:\n",
    "        result.append(num)\n",
    "print(result, end='\\n')"
   ],
   "metadata": {
    "collapsed": false,
    "ExecuteTime": {
     "end_time": "2024-11-15T04:10:12.877458300Z",
     "start_time": "2024-11-15T04:10:12.869016700Z"
    }
   },
   "id": "ce48178b4350856d",
   "execution_count": 9
  },
  {
   "cell_type": "code",
   "outputs": [
    {
     "name": "stdout",
     "output_type": "stream",
     "text": [
      "[6, 7.5, 9]\n"
     ]
    }
   ],
   "source": [
    "alist = [-1, -4, 6, 7.5, -2.3, 9, -11]\n",
    "print([i for i in alist if i > 0])"
   ],
   "metadata": {
    "collapsed": false,
    "ExecuteTime": {
     "end_time": "2024-11-15T04:14:03.059219800Z",
     "start_time": "2024-11-15T04:14:03.043681900Z"
    }
   },
   "id": "2c9274582b36e7f",
   "execution_count": 10
  },
  {
   "cell_type": "code",
   "outputs": [
    {
     "name": "stdout",
     "output_type": "stream",
     "text": [
      "[(1, 3), (1, 4), (2, 3), (2, 1), (2, 4), (3, 1), (3, 4)]\n",
      "[(1, 3), (1, 4), (2, 3), (2, 1), (2, 4), (3, 1), (3, 4)]\n"
     ]
    }
   ],
   "source": [
    "print([(x, y) for x in [1, 2, 3] for y in [3, 1, 4] if x != y])\n",
    "result = []\n",
    "for x in [1, 2, 3]:\n",
    "    for y in [3, 1, 4]:\n",
    "        if x != y:\n",
    "            result.append((x, y))\n",
    "print(result, end='\\n')"
   ],
   "metadata": {
    "collapsed": false,
    "ExecuteTime": {
     "end_time": "2024-11-15T04:17:24.283777500Z",
     "start_time": "2024-11-15T04:17:24.278628800Z"
    }
   },
   "id": "1daf96bb72f77168",
   "execution_count": 12
  },
  {
   "cell_type": "code",
   "outputs": [
    {
     "name": "stdout",
     "output_type": "stream",
     "text": [
      "[4, 4, 16]\n"
     ]
    }
   ],
   "source": [
    "def f(v):\n",
    "    if v % 2 == 0:\n",
    "        v = v ** 2\n",
    "    else:\n",
    "        v = v + 1\n",
    "    return v\n",
    "\n",
    "\n",
    "print([f(v) for v in [2, 3, 4, -1] if v > 0])"
   ],
   "metadata": {
    "collapsed": false,
    "ExecuteTime": {
     "end_time": "2024-11-15T04:19:58.186788600Z",
     "start_time": "2024-11-15T04:19:58.166343Z"
    }
   },
   "id": "d97d93c4804a3358",
   "execution_count": 13
  },
  {
   "cell_type": "code",
   "outputs": [
    {
     "name": "stdout",
     "output_type": "stream",
     "text": [
      "[17, 15, 13, 11, 9, 7, 6, 5, 4, 3]\n",
      "[3, 5, 7, 11, 15]\n",
      "[4, 6, 9, 13, 17]\n",
      "[6, 7, 9]\n",
      "[6, 5, 4]\n",
      "[3, 4, 5, 6, 7, 9, 11, 13, 15, 17]\n"
     ]
    }
   ],
   "source": [
    "alist = [3, 4, 5, 6, 7, 9, 11, 13, 15, 17]\n",
    "print(alist[::-1])  # 逆序\n",
    "print(alist[::2])  # 取偶数位置的元素\n",
    "print(alist[1::2])  # 取奇数位置的元素\n",
    "print(alist[3:6])  # 取下标为3，4，5的元素\n",
    "print(alist[3:0:-1])  # 反向切片\n",
    "print(alist[0:100])  # 若结束位置大于列表长度，从列表尾部截断"
   ],
   "metadata": {
    "collapsed": false,
    "ExecuteTime": {
     "end_time": "2024-11-15T04:30:38.446026600Z",
     "start_time": "2024-11-15T04:30:38.440007Z"
    }
   },
   "id": "e3d05e7b0116d7a5",
   "execution_count": 17
  },
  {
   "cell_type": "code",
   "outputs": [
    {
     "name": "stdout",
     "output_type": "stream",
     "text": [
      "[1, 2, 3, 4, 5, 7, 9]\n"
     ]
    }
   ],
   "source": [
    "alist = [3, 5, 7]\n",
    "alist[len(alist):] = [9]  # 在尾部插入一个元素\n",
    "alist[:0] = [1, 2]  # 在头部插入多个元素\n",
    "alist[3:3] = [4]  # 在中间插入元素\n",
    "print(alist)"
   ],
   "metadata": {
    "collapsed": false,
    "ExecuteTime": {
     "end_time": "2024-11-15T05:01:18.743109400Z",
     "start_time": "2024-11-15T05:01:18.733813400Z"
    }
   },
   "id": "941f9cef629feeee",
   "execution_count": 18
  },
  {
   "cell_type": "code",
   "outputs": [
    {
     "name": "stdout",
     "output_type": "stream",
     "text": [
      "[1, 2, 3, 9]\n",
      "[1, 2, 3, 4, 5, 6]\n",
      "[0, 2, 0, 4, 0, 6]\n",
      "['a', 2, 'b', 4, 'c', 6]\n"
     ]
    }
   ],
   "source": [
    "alist = [3, 5, 7, 9]\n",
    "alist[:3] = [1, 2, 3]  # 等号两边的列表长度需要一样\n",
    "print(alist)\n",
    "alist[3:] = [4, 5, 6]  # 列表尾部连续，两边长度可以不相等\n",
    "print(alist)\n",
    "alist[::2] = [0] * 3  # 隔一个元素修改一个\n",
    "print(alist)\n",
    "alist[::2] = ['a', 'b', 'c']\n",
    "print(alist)"
   ],
   "metadata": {
    "collapsed": false,
    "ExecuteTime": {
     "end_time": "2024-11-15T05:04:16.212901Z",
     "start_time": "2024-11-15T05:04:16.201695800Z"
    }
   },
   "id": "a7fc401e43af7704",
   "execution_count": 19
  },
  {
   "cell_type": "code",
   "outputs": [
    {
     "name": "stdout",
     "output_type": "stream",
     "text": [
      "[9]\n",
      "[5, 9, 13]\n"
     ]
    }
   ],
   "source": [
    "alist = [3, 5, 7, 9]\n",
    "alist[:3] = []  # 删除列表中的前3个元素\n",
    "print(alist)\n",
    "alist = [3, 5, 7, 9, 11, 13]\n",
    "del alist[::2]  # 隔一个删一个\n",
    "print(alist)"
   ],
   "metadata": {
    "collapsed": false,
    "ExecuteTime": {
     "end_time": "2024-11-15T05:08:13.270347200Z",
     "start_time": "2024-11-15T05:08:13.262271Z"
    }
   },
   "id": "93c8ab67b53e8a17",
   "execution_count": 22
  },
  {
   "cell_type": "code",
   "outputs": [
    {
     "name": "stdout",
     "output_type": "stream",
     "text": [
      "[(0, 0), (1, 1), (2, 2), (3, 3), (4, 4)]\n",
      "[(0, 'a'), (1, 'b'), (2, 'c')]\n"
     ]
    }
   ],
   "source": [
    "print(list(enumerate(range(5))))\n",
    "print(list(zip(range(3), 'abcdef')))"
   ],
   "metadata": {
    "collapsed": false,
    "ExecuteTime": {
     "end_time": "2024-11-15T05:13:14.495167200Z",
     "start_time": "2024-11-15T05:13:14.460847600Z"
    }
   },
   "id": "17058e2a6504e751",
   "execution_count": 23
  },
  {
   "cell_type": "code",
   "outputs": [
    {
     "name": "stdout",
     "output_type": "stream",
     "text": [
      "(4, 9, 16, 25, 36, 49, 64, 81, 100, 121)\n",
      "()\n",
      "4\n",
      "9\n",
      "16\n"
     ]
    }
   ],
   "source": [
    "g = ((i + 2) ** 2 for i in range(10))  # 创建生成器对象\n",
    "print(tuple(g))  # 将生成器对象转换为元组\n",
    "print(tuple(g))\n",
    "g = ((i + 2) ** 2 for i in range(10))  # 再次创建生成器对象\n",
    "print(g.__next__())  # 使用生成器对象的__next__()方法获取元素\n",
    "print(g.__next__())\n",
    "print(next(g))"
   ],
   "metadata": {
    "collapsed": false,
    "ExecuteTime": {
     "end_time": "2024-11-15T05:22:04.510073100Z",
     "start_time": "2024-11-15T05:22:04.501755400Z"
    }
   },
   "id": "2ca98bf2c889808f",
   "execution_count": 27
  },
  {
   "cell_type": "code",
   "outputs": [
    {
     "name": "stdout",
     "output_type": "stream",
     "text": [
      "(4, 9, 16, 25, 36, 49, 64, 81, 100, 121)\n",
      "4 9 16 25 36 49 64 81 100 121 "
     ]
    }
   ],
   "source": [
    "g = ((i + 2) ** 2 for i in range(10))\n",
    "print(tuple(g))\n",
    "g = ((i + 2) ** 2 for i in range(10))\n",
    "for item in g:\n",
    "    print(item, end=' ')"
   ],
   "metadata": {
    "collapsed": false,
    "ExecuteTime": {
     "end_time": "2024-11-15T05:25:15.718575100Z",
     "start_time": "2024-11-15T05:25:15.709896Z"
    }
   },
   "id": "70ca18a865b98ca2",
   "execution_count": 35
  },
  {
   "cell_type": "code",
   "outputs": [
    {
     "name": "stdout",
     "output_type": "stream",
     "text": [
      "True\n",
      "True\n",
      "True\n",
      "False\n",
      "True\n",
      "False\n"
     ]
    }
   ],
   "source": [
    "x = range(6)\n",
    "print(5 in x)\n",
    "print(5 in x)\n",
    "x = filter(None, range(6))\n",
    "print(5 in x)\n",
    "print(5 in x)\n",
    "x = map(str, range(6))\n",
    "print('0' in x)\n",
    "print('0' in x)"
   ],
   "metadata": {
    "collapsed": false,
    "ExecuteTime": {
     "end_time": "2024-11-15T05:31:17.426107400Z",
     "start_time": "2024-11-15T05:31:17.402366800Z"
    }
   },
   "id": "1b130a2a72811946",
   "execution_count": 40
  },
  {
   "cell_type": "code",
   "outputs": [
    {
     "name": "stdout",
     "output_type": "stream",
     "text": [
      "{'server': 'db.diveintopython3.org', 'database': 'mysql'}\n",
      "{'a': 1, 'b': 2, 'c': 3, 'd': 4}\n"
     ]
    }
   ],
   "source": [
    "aDict = {'server': 'db.diveintopython3.org', 'database': 'mysql'}\n",
    "print(aDict)\n",
    "keys = ['a', 'b', 'c', 'd']\n",
    "values = [1, 2, 3, 4]\n",
    "dictionary = dict(zip(keys, values))\n",
    "print(dictionary)"
   ],
   "metadata": {
    "collapsed": false,
    "ExecuteTime": {
     "end_time": "2024-11-15T05:47:12.577082Z",
     "start_time": "2024-11-15T05:47:12.569058400Z"
    }
   },
   "id": "65833a4bfd0dd7d1",
   "execution_count": 43
  },
  {
   "cell_type": "code",
   "outputs": [
    {
     "name": "stdout",
     "output_type": "stream",
     "text": [
      "39\n"
     ]
    },
    {
     "ename": "KeyError",
     "evalue": "'address'",
     "output_type": "error",
     "traceback": [
      "\u001B[1;31m---------------------------------------------------------------------------\u001B[0m",
      "\u001B[1;31mKeyError\u001B[0m                                  Traceback (most recent call last)",
      "Cell \u001B[1;32mIn[44], line 3\u001B[0m\n\u001B[0;32m      1\u001B[0m aDict \u001B[38;5;241m=\u001B[39m {\u001B[38;5;124m'\u001B[39m\u001B[38;5;124mage\u001B[39m\u001B[38;5;124m'\u001B[39m: \u001B[38;5;241m39\u001B[39m, \u001B[38;5;124m'\u001B[39m\u001B[38;5;124mscore\u001B[39m\u001B[38;5;124m'\u001B[39m: [\u001B[38;5;241m98\u001B[39m, \u001B[38;5;241m97\u001B[39m], \u001B[38;5;124m'\u001B[39m\u001B[38;5;124mname\u001B[39m\u001B[38;5;124m'\u001B[39m: \u001B[38;5;124m'\u001B[39m\u001B[38;5;124mDong\u001B[39m\u001B[38;5;124m'\u001B[39m, \u001B[38;5;124m'\u001B[39m\u001B[38;5;124msex\u001B[39m\u001B[38;5;124m'\u001B[39m: \u001B[38;5;124m'\u001B[39m\u001B[38;5;124mmale\u001B[39m\u001B[38;5;124m'\u001B[39m}\n\u001B[0;32m      2\u001B[0m \u001B[38;5;28mprint\u001B[39m(aDict[\u001B[38;5;124m'\u001B[39m\u001B[38;5;124mage\u001B[39m\u001B[38;5;124m'\u001B[39m])\n\u001B[1;32m----> 3\u001B[0m \u001B[38;5;28mprint\u001B[39m(aDict[\u001B[38;5;124m'\u001B[39m\u001B[38;5;124maddress\u001B[39m\u001B[38;5;124m'\u001B[39m])\n",
      "\u001B[1;31mKeyError\u001B[0m: 'address'"
     ]
    }
   ],
   "source": [
    "aDict = {'age': 39, 'score': [98, 97], 'name': 'Dong', 'sex': 'male'}\n",
    "print(aDict['age'])\n",
    "print(aDict['address'])"
   ],
   "metadata": {
    "collapsed": false,
    "ExecuteTime": {
     "end_time": "2024-11-15T05:48:29.180748600Z",
     "start_time": "2024-11-15T05:48:29.139031500Z"
    }
   },
   "id": "f96deb12b3eea818",
   "execution_count": 44
  },
  {
   "cell_type": "code",
   "outputs": [
    {
     "name": "stdout",
     "output_type": "stream",
     "text": [
      "{'A': 3, 'b': 2, '1': 1}\n",
      "dict_items([('age', 39), ('score', [98, 97]), ('name', 'Dong'), ('sex', 'male')])\n",
      "dict_keys(['age', 'score', 'name', 'sex'])\n",
      "dict_values([39, [98, 97], 'Dong', 'male'])\n"
     ]
    }
   ],
   "source": [
    "z = 'AAAbb1'\n",
    "d = dict()\n",
    "for ch in z:\n",
    "    d[ch] = d.get(ch, 0) + 1\n",
    "print(d)\n",
    "\n",
    "aDict = {'age': 39, 'score': [98, 97], 'name': 'Dong', 'sex': 'male'}\n",
    "print(aDict.items())\n",
    "print(aDict.keys())\n",
    "print(aDict.values())"
   ],
   "metadata": {
    "collapsed": false,
    "ExecuteTime": {
     "end_time": "2024-11-15T05:55:34.386310700Z",
     "start_time": "2024-11-15T05:55:34.380648800Z"
    }
   },
   "id": "e83531ace78dfd99",
   "execution_count": 54
  },
  {
   "cell_type": "code",
   "outputs": [
    {
     "name": "stdout",
     "output_type": "stream",
     "text": [
      "{'age': 39, 'name': 'Dong', 'sex': 'male'}\n",
      "{'age': 39, 'name': 'Dong', 'sex': 'male', 'address': 'GDOU'}\n"
     ]
    }
   ],
   "source": [
    "aDict = {'age': 35, 'name': 'Dong', 'sex': 'male'}\n",
    "aDict['age'] = 39  # 修改元素\n",
    "print(aDict)\n",
    "aDict['address'] = 'GDOU'  # 增加元素\n",
    "print(aDict)"
   ],
   "metadata": {
    "collapsed": false,
    "ExecuteTime": {
     "end_time": "2024-11-15T05:56:33.176964100Z",
     "start_time": "2024-11-15T05:56:33.167382800Z"
    }
   },
   "id": "3cb88e7cfe9190fe",
   "execution_count": 55
  },
  {
   "cell_type": "code",
   "outputs": [
    {
     "name": "stdout",
     "output_type": "stream",
     "text": [
      "{'age': 39, 'score': [98, 97], 'name': 'Dong', 'sex': 'male', 'a': 97}\n"
     ]
    }
   ],
   "source": [
    "aDict = {'age': 37, 'score': [98, 97], 'name': 'Dong', 'sex': 'male'}\n",
    "aDict.update({'a': 97, 'age': 39})\n",
    "print(aDict)"
   ],
   "metadata": {
    "collapsed": false,
    "ExecuteTime": {
     "end_time": "2024-11-15T05:57:29.026548800Z",
     "start_time": "2024-11-15T05:57:29.016585800Z"
    }
   },
   "id": "2db889fd756fad4b",
   "execution_count": 56
  },
  {
   "cell_type": "code",
   "outputs": [
    {
     "name": "stdout",
     "output_type": "stream",
     "text": [
      "{'score': [98, 97], 'name': 'Dong', 'sex': 'male'}\n",
      "{'score': [98, 97], 'name': 'Dong'}\n",
      "{'name': 'Dong'}\n"
     ]
    }
   ],
   "source": [
    "aDict = {'age': 37, 'score': [98, 97], 'name': 'Dong', 'sex': 'male'}\n",
    "del aDict['age']\n",
    "print(aDict)\n",
    "aDict.popitem()\n",
    "print(aDict)\n",
    "aDict.pop('score')\n",
    "print(aDict)"
   ],
   "metadata": {
    "collapsed": false,
    "ExecuteTime": {
     "end_time": "2024-11-15T05:59:57.916808700Z",
     "start_time": "2024-11-15T05:59:57.907366400Z"
    }
   },
   "id": "36ba2bbc6ba05ba5",
   "execution_count": 59
  },
  {
   "cell_type": "code",
   "outputs": [
    {
     "name": "stdout",
     "output_type": "stream",
     "text": [
      "{0, 1, 2, 3, 4}\n"
     ]
    }
   ],
   "source": [
    "a_set = [0, 1, 1, 2, 2, 3, 3, 3, 4]\n",
    "print(set(a_set))"
   ],
   "metadata": {
    "collapsed": false,
    "ExecuteTime": {
     "end_time": "2024-11-15T06:09:03.535866200Z",
     "start_time": "2024-11-15T06:09:03.527350500Z"
    }
   },
   "id": "4338a97c71854ba5",
   "execution_count": 61
  },
  {
   "cell_type": "code",
   "outputs": [
    {
     "name": "stdout",
     "output_type": "stream",
     "text": [
      "{0, 1, 2, 3, 4, 5, 6, 7, 8, 9, 10}\n",
      "{0, 1, 2, 3, 4, 5, 6, 7, 8, 9, 10}\n",
      "{6}\n",
      "{6}\n",
      "{8, 9, 10, 7}\n",
      "{8, 9, 10, 7}\n",
      "{0, 1, 2, 3, 4, 5, 7, 8, 9, 10}\n",
      "{0, 1, 2, 3, 4, 5, 7, 8, 9, 10}\n",
      "False\n",
      "True\n",
      "True\n"
     ]
    }
   ],
   "source": [
    "a_set = {6, 7, 8, 9, 10}\n",
    "b_set = {0, 1, 2, 3, 4, 5, 6}\n",
    "print(a_set | b_set)  # 并集\n",
    "print(a_set.union(b_set))  # 并集\n",
    "print(a_set & b_set)  # 交集\n",
    "print(a_set.intersection(b_set))  # 交集\n",
    "print(a_set - b_set)  # 差集\n",
    "print(a_set.difference(b_set))  # 差集\n",
    "print(a_set ^ b_set)  # 对称差集\n",
    "print(a_set.symmetric_difference(b_set))  # 对称差集\n",
    "x = {5, 6, 7}\n",
    "y = {1, 2, 3}\n",
    "z = {1, 2, 3, 4}\n",
    "print(x < z)  # 是否子集\n",
    "print(y < z)  # 是否子集\n",
    "print(y <= {1, 2, 3})  # 是否真子集"
   ],
   "metadata": {
    "collapsed": false,
    "ExecuteTime": {
     "end_time": "2024-11-15T06:16:05.396282Z",
     "start_time": "2024-11-15T06:16:05.384383700Z"
    }
   },
   "id": "a2f4cbac1ce5be57",
   "execution_count": 74
  },
  {
   "cell_type": "code",
   "outputs": [
    {
     "name": "stdout",
     "output_type": "stream",
     "text": [
      "{2, 3, 4, 5}\n",
      "{3, 4, 5}\n",
      "{3, 4, 5}\n",
      "set()\n"
     ]
    },
    {
     "ename": "KeyError",
     "evalue": "6",
     "output_type": "error",
     "traceback": [
      "\u001B[1;31m---------------------------------------------------------------------------\u001B[0m",
      "\u001B[1;31mKeyError\u001B[0m                                  Traceback (most recent call last)",
      "Cell \u001B[1;32mIn[83], line 9\u001B[0m\n\u001B[0;32m      7\u001B[0m s\u001B[38;5;241m.\u001B[39mclear()\n\u001B[0;32m      8\u001B[0m \u001B[38;5;28mprint\u001B[39m(s)\n\u001B[1;32m----> 9\u001B[0m s\u001B[38;5;241m.\u001B[39mremove(\u001B[38;5;241m6\u001B[39m)\n\u001B[0;32m     10\u001B[0m \u001B[38;5;28mprint\u001B[39m(s)\n",
      "\u001B[1;31mKeyError\u001B[0m: 6"
     ]
    }
   ],
   "source": [
    "s = {2, 2, 3, 4, 5}\n",
    "print(s)\n",
    "s.pop()\n",
    "print(s)\n",
    "s.discard(6)\n",
    "print(s)\n",
    "s.clear()\n",
    "print(s)\n",
    "s.remove(6)\n",
    "print(s)"
   ],
   "metadata": {
    "collapsed": false,
    "ExecuteTime": {
     "end_time": "2024-11-15T06:42:04.916837Z",
     "start_time": "2024-11-15T06:42:04.902815600Z"
    }
   },
   "id": "784fee77913c1787",
   "execution_count": 83
  },
  {
   "cell_type": "code",
   "outputs": [
    {
     "name": "stdout",
     "output_type": "stream",
     "text": [
      "1 2 3\n",
      "('a', 1) ('b', 2) ('c', 3)\n",
      "A B C\n"
     ]
    }
   ],
   "source": [
    "a = [1, 2, 3]\n",
    "b, c, d = a\n",
    "print(b, c, d)\n",
    "s = {'a': 1, 'b': 2, 'c': 3}\n",
    "b, c, d = s.items()\n",
    "print(b, c, d)\n",
    "b, c, d = 'ABC'\n",
    "print(b, c, d)"
   ],
   "metadata": {
    "collapsed": false,
    "ExecuteTime": {
     "end_time": "2024-11-15T06:55:07.554509300Z",
     "start_time": "2024-11-15T06:55:07.539643100Z"
    }
   },
   "id": "6aeb8c513d43146f",
   "execution_count": 88
  },
  {
   "cell_type": "code",
   "outputs": [
    {
     "name": "stdout",
     "output_type": "stream",
     "text": [
      "The value on position 0 is a\n",
      "The value on position 1 is b\n",
      "The value on position 2 is c\n"
     ]
    }
   ],
   "source": [
    "x = ['a', 'b', 'c']\n",
    "for i, v in enumerate(x):\n",
    "    print('The value on position {0} is {1}'.format(i, v))"
   ],
   "metadata": {
    "collapsed": false,
    "ExecuteTime": {
     "end_time": "2024-11-15T07:08:23.533834500Z",
     "start_time": "2024-11-15T07:08:23.526333700Z"
    }
   },
   "id": "418dac85691055ca",
   "execution_count": 95
  },
  {
   "cell_type": "code",
   "outputs": [
    {
     "name": "stdout",
     "output_type": "stream",
     "text": [
      "Hello\n",
      "World\n",
      "A\n",
      "A\n"
     ]
    }
   ],
   "source": [
    "print('Hello\\nWorld')\n",
    "print('\\101')  # 三位八进制数对应的字符\n",
    "print('\\x41')  # 两位十六进制数对应的字符"
   ],
   "metadata": {
    "collapsed": false,
    "ExecuteTime": {
     "end_time": "2024-11-15T07:01:46.660976600Z",
     "start_time": "2024-11-15T07:01:46.652051400Z"
    }
   },
   "id": "8153e5faaf7ccd11",
   "execution_count": 90
  },
  {
   "cell_type": "code",
   "outputs": [
    {
     "name": "stdout",
     "output_type": "stream",
     "text": [
      "0.333\n",
      "350.00%\n",
      "X:5;\tY:8;\tZ:13\n"
     ]
    }
   ],
   "source": [
    "print('{0:.3f}'.format(1 / 3))  # 0 表示这是第一个参数,.3f 表示浮点数格式化，保留三位小数\n",
    "print('{0:.2%}'.format(3.5))  # 格式化为保留两位小数的百分数\n",
    "position = (5, 8, 13)\n",
    "print('X:{0[0]};\\tY:{0[1]};\\tZ:{0[2]}'.format(position))"
   ],
   "metadata": {
    "collapsed": false,
    "ExecuteTime": {
     "end_time": "2024-11-15T07:09:20.846598400Z",
     "start_time": "2024-11-15T07:09:20.839990300Z"
    }
   },
   "id": "57e9ca1aa3dc0734",
   "execution_count": 98
  },
  {
   "cell_type": "code",
   "outputs": [
    {
     "name": "stdout",
     "output_type": "stream",
     "text": [
      "6\n",
      "19\n",
      "-1\n",
      "25\n",
      "7\n"
     ]
    },
    {
     "ename": "ValueError",
     "evalue": "substring not found",
     "output_type": "error",
     "traceback": [
      "\u001B[1;31m---------------------------------------------------------------------------\u001B[0m",
      "\u001B[1;31mValueError\u001B[0m                                Traceback (most recent call last)",
      "Cell \u001B[1;32mIn[107], line 7\u001B[0m\n\u001B[0;32m      5\u001B[0m \u001B[38;5;28mprint\u001B[39m(s\u001B[38;5;241m.\u001B[39mrfind(\u001B[38;5;124m'\u001B[39m\u001B[38;5;124mp\u001B[39m\u001B[38;5;124m'\u001B[39m))\n\u001B[0;32m      6\u001B[0m \u001B[38;5;28mprint\u001B[39m(s\u001B[38;5;241m.\u001B[39mcount(\u001B[38;5;124m'\u001B[39m\u001B[38;5;124ma\u001B[39m\u001B[38;5;124m'\u001B[39m))\n\u001B[1;32m----> 7\u001B[0m \u001B[38;5;28mprint\u001B[39m(s\u001B[38;5;241m.\u001B[39mindex(\u001B[38;5;124m'\u001B[39m\u001B[38;5;124mx\u001B[39m\u001B[38;5;124m'\u001B[39m))\n",
      "\u001B[1;31mValueError\u001B[0m: substring not found"
     ]
    }
   ],
   "source": [
    "s = \"apple,peach,banana,peach,pear\"\n",
    "print(s.find('peach'))\n",
    "print(s.find('peach', 7))\n",
    "print(s.find('peach', 7, 20))\n",
    "print(s.rfind('p'))\n",
    "print(s.count('a'))\n",
    "print(s.index('x'))"
   ],
   "metadata": {
    "collapsed": false,
    "ExecuteTime": {
     "end_time": "2024-11-15T07:13:24.923003200Z",
     "start_time": "2024-11-15T07:13:24.909109600Z"
    }
   },
   "id": "414b6614db4a329e",
   "execution_count": 107
  },
  {
   "cell_type": "code",
   "outputs": [
    {
     "name": "stdout",
     "output_type": "stream",
     "text": [
      "['apple', 'peach', 'banana', 'pear']\n",
      "('apple', ',', 'peach,banana,pear')\n",
      "['2017', '10', '31']\n"
     ]
    }
   ],
   "source": [
    "s = \"apple,peach,banana,pear\"\n",
    "print(s.split(','))\n",
    "print(s.partition(','))\n",
    "s = \"2017-10-31\"\n",
    "print(s.split('-'))"
   ],
   "metadata": {
    "collapsed": false,
    "ExecuteTime": {
     "end_time": "2024-11-15T07:18:58.856614500Z",
     "start_time": "2024-11-15T07:18:58.847714900Z"
    }
   },
   "id": "1061d190539001eb",
   "execution_count": 115
  },
  {
   "cell_type": "code",
   "outputs": [
    {
     "name": "stdout",
     "output_type": "stream",
     "text": [
      "apple;peach;banana;pear\n",
      "aaa bb c d e fff\n"
     ]
    }
   ],
   "source": [
    "li = [\"apple\", \"peach\", \"banana\", \"pear\"]\n",
    "print(';'.join(li))\n",
    "x = 'aaa bb c   d  e     fff'\n",
    "print(' '.join(x.split()))  # 删除字符串中多余的空白字符，连续多个空白字符只保留一个"
   ],
   "metadata": {
    "collapsed": false,
    "ExecuteTime": {
     "end_time": "2024-11-15T07:22:07.025384600Z",
     "start_time": "2024-11-15T07:22:07.011471400Z"
    }
   },
   "id": "af91e5be5fd0b862",
   "execution_count": 118
  },
  {
   "cell_type": "code",
   "outputs": [
    {
     "name": "stdout",
     "output_type": "stream",
     "text": [
      "what is your name?\n",
      "WHAT IS YOUR NAME?\n",
      "What is your name?\n",
      "wHAT IS yOUR nAME?\n"
     ]
    }
   ],
   "source": [
    "s = \"What is Your Name?\"\n",
    "print(s.lower())\n",
    "print(s.upper())\n",
    "print(s.capitalize())\n",
    "print(s.swapcase())"
   ],
   "metadata": {
    "collapsed": false,
    "ExecuteTime": {
     "end_time": "2024-11-15T07:24:18.731378400Z",
     "start_time": "2024-11-15T07:24:18.723033300Z"
    }
   },
   "id": "8d006a72f558fc9a",
   "execution_count": 120
  },
  {
   "cell_type": "code",
   "outputs": [
    {
     "name": "stdout",
     "output_type": "stream",
     "text": [
      "这句***里含有***内容\n"
     ]
    }
   ],
   "source": [
    "words = ('测试', '非法', '暴力', '话')\n",
    "text = '这句话里含有非法内容'\n",
    "for word in words:\n",
    "    if word in text:\n",
    "        text = text.replace(word, '***')\n",
    "print(text)"
   ],
   "metadata": {
    "collapsed": false,
    "ExecuteTime": {
     "end_time": "2024-11-15T07:25:43.356343300Z",
     "start_time": "2024-11-15T07:25:43.316847Z"
    }
   },
   "id": "7f936e1a398e9003",
   "execution_count": 121
  },
  {
   "cell_type": "code",
   "outputs": [
    {
     "name": "stdout",
     "output_type": "stream",
     "text": [
      "Python is u gryuty progrumming lunguugy. I liky it!\n"
     ]
    }
   ],
   "source": [
    "table = ''.maketrans('abcdef123', 'uvwxyz@#$')  # 两个参数并不是作为整体进行处理的\n",
    "s = \"Python is a greate programming language. I like it!\"\n",
    "print(s.translate(table))"
   ],
   "metadata": {
    "collapsed": false,
    "ExecuteTime": {
     "end_time": "2024-11-15T07:27:41.691208500Z",
     "start_time": "2024-11-15T07:27:41.680419300Z"
    }
   },
   "id": "f5ca4bcaa6a2a94a",
   "execution_count": 122
  },
  {
   "cell_type": "code",
   "outputs": [
    {
     "name": "stdout",
     "output_type": "stream",
     "text": [
      "  abc\n",
      "abc\n",
      "   a  b\n",
      "   a  b\n",
      "abc\n",
      "bc\n"
     ]
    }
   ],
   "source": [
    "s = '  abc'\n",
    "print(s)\n",
    "print(s.strip())\n",
    "s = '   a  bc'\n",
    "print(s.strip('c'))  # 字符c在字符串的右侧，所以删除\n",
    "print(s.strip('ac'))  # 字符a不在字符串的左侧，所以不删除\n",
    "s = 'abc'\n",
    "print(s)\n",
    "print(s.lstrip('a'))"
   ],
   "metadata": {
    "collapsed": false,
    "ExecuteTime": {
     "end_time": "2024-11-15T07:31:37.626636600Z",
     "start_time": "2024-11-15T07:31:37.616343700Z"
    }
   },
   "id": "c840e8596072b37b",
   "execution_count": 133
  },
  {
   "cell_type": "code",
   "outputs": [
    {
     "name": "stdout",
     "output_type": "stream",
     "text": [
      "True\n",
      "False\n"
     ]
    }
   ],
   "source": [
    "s = 'Beautiful is better than ugly.'\n",
    "print(s.startswith('Be'))\n",
    "print(s.startswith('Be', 5, 10))  # 可指定检测范围"
   ],
   "metadata": {
    "collapsed": false,
    "ExecuteTime": {
     "end_time": "2024-11-15T07:33:37.448888Z",
     "start_time": "2024-11-15T07:33:37.441507300Z"
    }
   },
   "id": "a2de3ccf461289a0",
   "execution_count": 138
  },
  {
   "cell_type": "code",
   "outputs": [
    {
     "name": "stdout",
     "output_type": "stream",
     "text": [
      "True\n",
      "False\n",
      "False\n"
     ]
    }
   ],
   "source": [
    "print('1234abcd'.isalnum())\n",
    "print('1234abcd'.isalpha())\n",
    "print('1234abcd'.isdigit())"
   ],
   "metadata": {
    "collapsed": false,
    "ExecuteTime": {
     "end_time": "2024-11-15T07:38:28.972072600Z",
     "start_time": "2024-11-15T07:38:28.960471100Z"
    }
   },
   "id": "7971c9522e142bf7",
   "execution_count": 139
  },
  {
   "cell_type": "code",
   "outputs": [],
   "source": [],
   "metadata": {
    "collapsed": false
   },
   "id": "49af786c4aefcd4a"
  }
 ],
 "metadata": {
  "kernelspec": {
   "display_name": "Python 3",
   "language": "python",
   "name": "python3"
  },
  "language_info": {
   "codemirror_mode": {
    "name": "ipython",
    "version": 2
   },
   "file_extension": ".py",
   "mimetype": "text/x-python",
   "name": "python",
   "nbconvert_exporter": "python",
   "pygments_lexer": "ipython2",
   "version": "2.7.6"
  }
 },
 "nbformat": 4,
 "nbformat_minor": 5
}
